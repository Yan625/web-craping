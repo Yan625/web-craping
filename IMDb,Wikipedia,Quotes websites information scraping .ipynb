{
 "cells": [
  {
   "cell_type": "markdown",
   "metadata": {},
   "source": [
    "# Web Scraping Exercise "
   ]
  },
  {
   "cell_type": "markdown",
   "metadata": {},
   "source": [
    "### 1.IMDb movie information scraping \n",
    "\n",
    "website:https://www.imdb.com/search/title/?release_date=2018&sort=num_votes,desc&page=1&ref_=adv_nxt"
   ]
  },
  {
   "cell_type": "code",
   "execution_count": 1,
   "metadata": {},
   "outputs": [],
   "source": [
    "import requests\n",
    "from bs4 import BeautifulSoup"
   ]
  },
  {
   "cell_type": "markdown",
   "metadata": {},
   "source": [
    "**1. Print the data of first 3 movies**"
   ]
  },
  {
   "cell_type": "code",
   "execution_count": 110,
   "metadata": {},
   "outputs": [
    {
     "name": "stdout",
     "output_type": "stream",
     "text": [
      "Avengers: Infinity War ; Action , Adventure , Sci-Fi\n",
      "Black Panther ; Action , Adventure , Sci-Fi\n",
      "Deadpool 2 ; Action , Adventure , Comedy\n"
     ]
    }
   ],
   "source": [
    "response=requests.get(\"https://www.imdb.com/search/title/?release_date=2018&sort=num_votes,desc&page=1&ref_=adv_nxt\")\n",
    "data=BeautifulSoup(response.text,'html.parser')\n",
    "data=data.find_all(\"h3\")\n",
    "basic_url='https://www.imdb.com'\n",
    "url1=[]\n",
    "for i in data[0:3]:\n",
    "    url1.append(basic_url+i.a['href'])\n",
    "\n",
    "title_genre=[]\n",
    "for j in url1:\n",
    "    response=requests.get(j)\n",
    "    data1=BeautifulSoup(response.text,'html.parser')\n",
    "    #print(data1.prettify())\n",
    "    \n",
    "    title=data1.h1\n",
    "    for m in title:\n",
    "        if m.string!=None:\n",
    "            title_genre.append(m.string.strip())\n",
    "            #print(m.string,end=\" \")\n",
    "\n",
    "    genre=data1.find(class_='subtext')\n",
    "    genre=genre.find_all('a')\n",
    "    for i in genre[0:3]:\n",
    "        #print(i.string,end=\" \")\n",
    "        title_genre.append(i.string.strip())\n",
    "    \n",
    "print(title_genre[0],\";\",title_genre[2],',',title_genre[3],',',title_genre[4])\n",
    "print(title_genre[5],\";\",title_genre[7],',',title_genre[8],',',title_genre[9])\n",
    "print(title_genre[10],\";\",title_genre[12],',',title_genre[13],',',title_genre[14])"
   ]
  },
  {
   "cell_type": "markdown",
   "metadata": {},
   "source": [
    "**2. Titles with most votes**\n",
    "\n",
    "Print the names of movies with highest number of votes from year 2010 to 2014\n",
    "\n",
    "website:https://www.imdb.com/search/title/?release_date=2018&sort=num_votes,desc&page=1&ref_=adv_nxt"
   ]
  },
  {
   "cell_type": "code",
   "execution_count": 119,
   "metadata": {},
   "outputs": [
    {
     "name": "stdout",
     "output_type": "stream",
     "text": [
      "Inception\n",
      "Game of Thrones\n",
      "The Dark Knight Rises\n",
      "The Wolf of Wall Street\n",
      "Interstellar\n"
     ]
    }
   ],
   "source": [
    "base_urlfront='https://www.imdb.com/search/title/?release_date='\n",
    "base_urlend='&sort=num_votes,desc'\n",
    "base_urlmiddle=['2010-01-01,2010-12-31','2011-01-01,2011-12-31','2012-01-01,2012-12-31','2013-01-01,2013-12-31','2014-01-01,2014-12-31']\n",
    "for i in base_urlmiddle:\n",
    "    url=base_urlfront+i+base_urlend\n",
    "    response=requests.get(url)\n",
    "    data=BeautifulSoup(response.text,'html.parser')\n",
    "    data\n",
    "    print(data.h3.a.string)"
   ]
  },
  {
   "cell_type": "markdown",
   "metadata": {},
   "source": [
    "**3. Title with maximum duration**\n",
    "\n",
    "Out of the first 250 titles with highest number of votes in 2018,find which title has the maximum duration.\n",
    "\n",
    "website:https://www.imdb.com/search/title/?release_date=2018&sort=num_votes,desc&page=1&ref_=adv_nxt"
   ]
  },
  {
   "cell_type": "code",
   "execution_count": 188,
   "metadata": {},
   "outputs": [
    {
     "name": "stdout",
     "output_type": "stream",
     "text": [
      "Sharp Objects 421 "
     ]
    }
   ],
   "source": [
    "import numpy as np\n",
    "import requests\n",
    "from bs4 import BeautifulSoup\n",
    "urlfront='https://www.imdb.com/search/title/?release_date=2018-01-01,2018-12-31&sort=num_votes,desc&start='\n",
    "urlend='&ref_=adv_nxt'\n",
    "url1=[]\n",
    "for i in range(1,202,50):\n",
    "    url=urlfront+str(i)+urlend\n",
    "    url1.append(url)\n",
    "\n",
    "title1=[]\n",
    "time1=[]\n",
    "for i in url1:\n",
    "    response=requests.get(i)\n",
    "    data=BeautifulSoup(response.text,'html.parser')\n",
    "    \n",
    "    #title\n",
    "    title=data.find_all('h3')\n",
    "    for i in title[0:-1]:\n",
    "        title1.append(i.a.string.strip())\n",
    "        \n",
    "    time=data.find_all(class_='runtime')\n",
    "    for i in time:\n",
    "        time1.append(int(i.string.split()[0]))\n",
    "\n",
    "title=np.array(title1)\n",
    "time=np.array(time1)\n",
    "index=np.argmax(time)\n",
    "print(title[index].strip(),time[index],end=\" \")    "
   ]
  },
  {
   "cell_type": "markdown",
   "metadata": {},
   "source": [
    "### 2. Wikipedia"
   ]
  },
  {
   "cell_type": "markdown",
   "metadata": {},
   "source": [
    "**4.Applications of AI**\n",
    "\n",
    "Find and print all applications of AI (As present in Contents of the page)\n",
    "\n",
    "website:https://en.wikipedia.org/wiki/Artificial_intelligence"
   ]
  },
  {
   "cell_type": "code",
   "execution_count": 225,
   "metadata": {},
   "outputs": [
    {
     "name": "stdout",
     "output_type": "stream",
     "text": [
      "Healthcare\n",
      "Automotive\n",
      "Finance and economics\n",
      "Cybersecurity\n",
      "Government\n",
      "Law-related professions\n",
      "Video games\n",
      "Military\n",
      "Hospitality\n",
      "Audit\n",
      "Advertising\n",
      "Art\n"
     ]
    }
   ],
   "source": [
    "response=requests.get('https://en.wikipedia.org/wiki/Artificial_intelligence')\n",
    "data=BeautifulSoup(response.text,'html.parser')\n",
    "\n",
    "data=data.find_all(class_='toclevel-1 tocsection-35')\n",
    "for i in data:\n",
    "    data=i.find('ul')\n",
    "    d=data.find_all('li')\n",
    "    for i in d:\n",
    "        m=i.find_all(class_='toctext')\n",
    "        for n in m:\n",
    "            print(n.string)"
   ]
  },
  {
   "cell_type": "markdown",
   "metadata": {},
   "source": [
    "**5. Image with maximum area**\n",
    "\n",
    "Find and print the src of the <img> tag which occupies the maximum area on the page.\n",
    "\n",
    "website:https://en.wikipedia.org/wiki/Artificial_intelligence"
   ]
  },
  {
   "cell_type": "code",
   "execution_count": 226,
   "metadata": {},
   "outputs": [
    {
     "name": "stdout",
     "output_type": "stream",
     "text": [
      "//upload.wikimedia.org/wikipedia/commons/6/69/EM_Clustering_of_Old_Faithful_data.gif\n"
     ]
    }
   ],
   "source": [
    "import requests\n",
    "import time\n",
    "from bs4 import BeautifulSoup\n",
    "from random import randint\n",
    "response=requests.get('https://en.wikipedia.org/wiki/Artificial_intelligence')\n",
    "data=BeautifulSoup(response.text,'html.parser')\n",
    "tags=data.find_all('img')\n",
    "max_area=-1\n",
    "url=-1\n",
    "for i in tags:\n",
    "    if i.has_attr('height')and i.has_attr('width'):\n",
    "        if int(i['height'])*int(i['width'])>max_area:\n",
    "            max_area=int(i['height'])*int(i['width'])\n",
    "            url=i['src']\n",
    "print(url)"
   ]
  },
  {
   "cell_type": "markdown",
   "metadata": {},
   "source": [
    "### 3. Quotes"
   ]
  },
  {
   "cell_type": "markdown",
   "metadata": {},
   "source": [
    "**6.Quotes with tag humor**\n",
    "\n",
    "Find all the quotes that have the tag as \"humor\" from\n",
    "\n",
    "website:http://quotes.toscrape.com/"
   ]
  },
  {
   "cell_type": "code",
   "execution_count": 227,
   "metadata": {},
   "outputs": [
    {
     "name": "stdout",
     "output_type": "stream",
     "text": [
      "“The person, be it gentleman or lady, who has not pleasure in a good novel, must be intolerably stupid.”\n",
      "“A day without sunshine is like, you know, night.”\n",
      "“Anyone who thinks sitting in church can make you a Christian must also think that sitting in a garage can make you a car.”\n",
      "“Beauty is in the eye of the beholder and it may be necessary from time to time to give a stupid or misinformed beholder a black eye.”\n",
      "“All you need is love. But a little chocolate now and then doesn't hurt.”\n",
      "“Remember, we're madly in love, so it's all right to kiss me anytime you feel like it.”\n",
      "“Some people never go crazy. What truly horrible lives they must lead.”\n",
      "“The trouble with having an open mind, of course, is that people will insist on coming along and trying to put things in it.”\n",
      "“Think left and think right and think low and think high. Oh, the thinks you can think up if only you try!”\n",
      "“The reason I talk to myself is because I’m the only one whose answers I accept.”\n",
      "“I am free of all prejudice. I hate everyone equally. ”\n",
      "“A lady's imagination is very rapid; it jumps from admiration to love, from love to matrimony in a moment.”\n"
     ]
    }
   ],
   "source": [
    "import requests\n",
    "from bs4 import BeautifulSoup\n",
    "import time\n",
    "for i in range(1,3):\n",
    "    response=requests.get('http://quotes.toscrape.com/tag/humor/page/'+str(i)+'/')\n",
    "    data=BeautifulSoup(response.text,'html.parser')\n",
    "    for i in data.select('.text'):\n",
    "        print(i.text)   "
   ]
  },
  {
   "cell_type": "markdown",
   "metadata": {},
   "source": [
    "**7. Print all authors**\n",
    "\n",
    "Find and print the names of all the different authors from all pages of\n",
    "\n",
    "website:http://quotes.toscrape.com"
   ]
  },
  {
   "cell_type": "code",
   "execution_count": 233,
   "metadata": {},
   "outputs": [
    {
     "name": "stdout",
     "output_type": "stream",
     "text": [
      "Albert Einstein\n",
      "Alexandre Dumas fils\n",
      "Alfred Tennyson\n",
      "Allen Saunders\n",
      "André Gide\n",
      "Ayn Rand\n",
      "Bob Marley\n",
      "C.S. Lewis\n",
      "Charles Bukowski\n",
      "Charles M. Schulz\n",
      "Douglas Adams\n",
      "Dr. Seuss\n",
      "E.E. Cummings\n",
      "Eleanor Roosevelt\n",
      "Elie Wiesel\n",
      "Ernest Hemingway\n",
      "Friedrich Nietzsche\n",
      "Garrison Keillor\n",
      "George Bernard Shaw\n",
      "George Carlin\n",
      "George Eliot\n",
      "George R.R. Martin\n",
      "Harper Lee\n",
      "Haruki Murakami\n",
      "Helen Keller\n",
      "J.D. Salinger\n",
      "J.K. Rowling\n",
      "J.M. Barrie\n",
      "J.R.R. Tolkien\n",
      "James Baldwin\n",
      "Jane Austen\n",
      "Jim Henson\n",
      "Jimi Hendrix\n",
      "John Lennon\n",
      "Jorge Luis Borges\n",
      "Khaled Hosseini\n",
      "Madeleine L'Engle\n",
      "Marilyn Monroe\n",
      "Mark Twain\n",
      "Martin Luther King Jr.\n",
      "Mother Teresa\n",
      "Pablo Neruda\n",
      "Ralph Waldo Emerson\n",
      "Stephenie Meyer\n",
      "Steve Martin\n",
      "Suzanne Collins\n",
      "Terry Pratchett\n",
      "Thomas A. Edison\n",
      "W.C. Fields\n",
      "William Nicholson\n"
     ]
    }
   ],
   "source": [
    "authors=set()\n",
    "for i in range(1,11):\n",
    "    response=requests.get('http://quotes.toscrape.com/page/'+str(i)+'/')\n",
    "    data=BeautifulSoup(response.text,'html.parser')\n",
    "    for i in data.select('.author'):\n",
    "        authors.add(i.text)\n",
    "\n",
    "for i in sorted(authors):\n",
    "    print(i)"
   ]
  },
  {
   "cell_type": "markdown",
   "metadata": {},
   "source": [
    "**8.Birth Date of authors**\n",
    "\n",
    "Find the birth date of authors whose name start with 'J' from\n",
    "\n",
    "website:http://quotes.toscrape.com"
   ]
  },
  {
   "cell_type": "code",
   "execution_count": 237,
   "metadata": {},
   "outputs": [
    {
     "name": "stdout",
     "output_type": "stream",
     "text": [
      "{'J.D. Salinger': 'January 01, 1919', 'J.K. Rowling': 'July 31, 1965', 'J.M. Barrie': 'May 09, 1860', 'J.R.R. Tolkien': 'January 03, 1892', 'James Baldwin': 'August 02, 1924', 'Jane Austen': 'December 16, 1775', 'Jim Henson': 'September 24, 1936', 'Jimi Hendrix': 'November 27, 1942', 'John Lennon': 'October 09, 1940', 'Jorge Luis Borges': 'August 24, 1899'}\n"
     ]
    }
   ],
   "source": [
    "authors={}\n",
    "for i in range(1,11):\n",
    "    response=requests.get('http://quotes.toscrape.com/page/'+str(i)+'/')\n",
    "    data=BeautifulSoup(response.text,'html.parser')\n",
    "    for i in data.select('.author'):\n",
    "        if i.text[0]=='J':\n",
    "            authors[i.text]=i.next_sibling.next_sibling['href']\n",
    "bd={}\n",
    "for author in sorted(authors):\n",
    "    response=requests.get('http://quotes.toscrape.com'+authors[author])\n",
    "    data=BeautifulSoup(response.text,'html.parser')\n",
    "    for i in data.select('.author-born-date'):\n",
    "        bd[author]=i.text\n",
    "print(bd) "
   ]
  },
  {
   "cell_type": "markdown",
   "metadata": {},
   "source": [
    "**9.Quotes by Albert Einstein**\n",
    "\n",
    "Find all the quotes by Albert Einstein(in the order they appear on the page) from \n",
    "\n",
    "website:http://quotes.toscrape.com"
   ]
  },
  {
   "cell_type": "code",
   "execution_count": 240,
   "metadata": {},
   "outputs": [
    {
     "name": "stdout",
     "output_type": "stream",
     "text": [
      "“The world as we have created it is a process of our thinking. It cannot be changed without changing our thinking.”\n",
      "“There are only two ways to live your life. One is as though nothing is a miracle. The other is as though everything is a miracle.”\n",
      "“Try not to become a man of success. Rather become a man of value.”\n",
      "“If you can't explain it to a six year old, you don't understand it yourself.”\n",
      "“If you want your children to be intelligent, read them fairy tales. If you want them to be more intelligent, read them more fairy tales.”\n",
      "“Logic will get you from A to Z; imagination will get you everywhere.”\n",
      "“Any fool can know. The point is to understand.”\n",
      "“Life is like riding a bicycle. To keep your balance, you must keep moving.”\n",
      "“If I were not a physicist, I would probably be a musician. I often think in music. I live my daydreams in music. I see my life in terms of music.”\n",
      "“Anyone who has never made a mistake has never tried anything new.”\n"
     ]
    }
   ],
   "source": [
    "authors=set()\n",
    "quotes=[]\n",
    "for i in range(1,11):\n",
    "    response=requests.get('http://quotes.toscrape.com/page/'+str(i)+'/')\n",
    "    data=BeautifulSoup(response.text,'html.parser')\n",
    "    for ele in data.select('.quote'):\n",
    "        if ele.find('small',class_='author').text=='Albert Einstein':\n",
    "            quotes.append(ele.find('span',class_='text').text)\n",
    "for i in quotes:\n",
    "    print(i)   "
   ]
  },
  {
   "cell_type": "code",
   "execution_count": null,
   "metadata": {},
   "outputs": [],
   "source": []
  }
 ],
 "metadata": {
  "kernelspec": {
   "display_name": "Python 3",
   "language": "python",
   "name": "python3"
  },
  "language_info": {
   "codemirror_mode": {
    "name": "ipython",
    "version": 3
   },
   "file_extension": ".py",
   "mimetype": "text/x-python",
   "name": "python",
   "nbconvert_exporter": "python",
   "pygments_lexer": "ipython3",
   "version": "3.7.3"
  }
 },
 "nbformat": 4,
 "nbformat_minor": 2
}
