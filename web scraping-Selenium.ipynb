{
 "cells": [
  {
   "cell_type": "markdown",
   "metadata": {},
   "source": [
    "# Selenium\n",
    "\n",
    "    1. Selenium is basically a Web Browser Automation Tool,which simulates a user surfing the internet\n",
    "       it allows: clicking buttons\n",
    "                  entering information in forms\n",
    "                  searching for specific information on the web pages\n",
    "    \n",
    "    2. BeautifulSoup limitation:\n",
    "       this process is suitable for static content, but sometimes the data we want to extract is hidden behind  \n",
    "       JavaScript objects, objects that need to be clicked on to reveal the hidden data\n",
    "    \n",
    "    3. Installation: Selenium package\n",
    "                     Webdriver:Chrome/Internet Explorer/Safati/Opera/Firefox\n",
    "    \n",
    "    4. Methods & Propertities:\n",
    "       driver.get(url)\n",
    "       driver.back()\n",
    "       driver.forward()\n",
    "       driver.title()\n",
    "       driver.page_source\n",
    "       driver.maximize_window()\n",
    "       driver.current_url\n",
    "       driver.refresh()\n",
    "       driver.get(driver.current_url)\n",
    "       driver.close()---->close the window that driver focus on\n",
    "       driver.quit()----->close the all the winders\n",
    "       click()\n",
    "       clear()\n",
    "       get_attribute(name)\n",
    "       is_displayed()\n",
    "       is_enabled()\n",
    "       send_keys(*value)\n",
    "       submit()\n",
    "       text()\n",
    "       tag_name()\n",
    "    \n",
    "    5.locate element:\n",
    "      find_element_by_link_text()---->return the first match\n",
    "      find_element_by_partial_link_text()\n",
    "      find_element_by_id()\n",
    "      find_element_by_class_name()\n",
    "      find_element_by_name()----->attribute\n",
    "      find_element_by_tag_name()\n",
    "      find_element_by_xpath()\n",
    "      find_element_by_css_selector()\n",
    "      \n",
    "    6.using xpath: path:absolute\n",
    "                        relative\n",
    "        \n",
    "      6.1 seleting nodes:\n",
    "      1.nodename: selects all nodes with the name\"nodenama\"\n",
    "      2. /:selects from the root node\n",
    "      3.//:selects nodes in the document from the current node that match the selection no matter where they are\n",
    "      4. @:selects attributes\n",
    "      \n",
    "      6.2 absolute:\n",
    "      syntax://tag[@attribute='value']\n",
    "      examples: 1) //div[@id='navbar]\n",
    "                2) //div[@id='navbar]/div/li    ------>second div is to find first following div after first div\n",
    "                3) //div[@class='index']//div   ------>second div is to find any div after first div\n",
    "                4) //*[@id='navbar]             ------>*means look for everything\n",
    "                5) //*[@id='navbar]/div/div/a\n",
    "                6) /bookstore/*\n",
    "                7) //*                          ------>find everything\n",
    "                8) //title[@*]\n",
    "                \n",
    "      6.3 relative:\n",
    "      syntax://tag[contains(@attribute,'value')]----->make partial search\n",
    "             //tag[starts-with(@attribute,'value')]\n",
    "             \n",
    "    7. using CCS selector:absolute\n",
    "                          relative\n",
    "                          using class\n",
    "                          using id\n",
    "      \n",
    "      "
   ]
  },
  {
   "cell_type": "code",
   "execution_count": 2,
   "metadata": {},
   "outputs": [
    {
     "name": "stdout",
     "output_type": "stream",
     "text": [
      "Collecting selenium\n",
      "  Downloading selenium-3.141.0-py2.py3-none-any.whl (904 kB)\n",
      "\u001b[K     |████████████████████████████████| 904 kB 1.5 MB/s eta 0:00:01\n",
      "\u001b[?25hRequirement already satisfied: urllib3 in /anaconda3/lib/python3.7/site-packages (from selenium) (1.24.2)\n",
      "Installing collected packages: selenium\n",
      "Successfully installed selenium-3.141.0\n",
      "Note: you may need to restart the kernel to use updated packages.\n"
     ]
    }
   ],
   "source": [
    "pip install selenium"
   ]
  },
  {
   "cell_type": "code",
   "execution_count": 13,
   "metadata": {},
   "outputs": [],
   "source": [
    "from selenium import webdriver\n",
    "from bs4 import BeautifulSoup"
   ]
  },
  {
   "cell_type": "code",
   "execution_count": 141,
   "metadata": {},
   "outputs": [
    {
     "data": {
      "text/plain": [
       "<selenium.webdriver.chrome.webdriver.WebDriver (session=\"661222a1c6e2b4ca4a26aa1bf6d006f2\")>"
      ]
     },
     "execution_count": 141,
     "metadata": {},
     "output_type": "execute_result"
    }
   ],
   "source": [
    "driver=webdriver.Chrome(executable_path='/Users/fy/Desktop/chromedriver')\n",
    "driver"
   ]
  },
  {
   "cell_type": "code",
   "execution_count": 4,
   "metadata": {},
   "outputs": [],
   "source": [
    "driver.get('https://codingninjas.in/')"
   ]
  },
  {
   "cell_type": "markdown",
   "metadata": {},
   "source": [
    "### 1. Basic"
   ]
  },
  {
   "cell_type": "code",
   "execution_count": 5,
   "metadata": {},
   "outputs": [
    {
     "data": {
      "text/plain": [
       "\"Practice & Learn Coding Online at India's Best Coding Courses - Coding Ninjas\""
      ]
     },
     "execution_count": 5,
     "metadata": {},
     "output_type": "execute_result"
    }
   ],
   "source": [
    "driver.title"
   ]
  },
  {
   "cell_type": "code",
   "execution_count": 8,
   "metadata": {},
   "outputs": [],
   "source": [
    "driver.back()"
   ]
  },
  {
   "cell_type": "code",
   "execution_count": 9,
   "metadata": {},
   "outputs": [],
   "source": [
    "driver.forward()"
   ]
  },
  {
   "cell_type": "code",
   "execution_count": 10,
   "metadata": {},
   "outputs": [
    {
     "data": {
      "text/plain": [
       "True"
      ]
     },
     "execution_count": 10,
     "metadata": {},
     "output_type": "execute_result"
    }
   ],
   "source": [
    "driver.save_screenshot('test_shot.png')"
   ]
  },
  {
   "cell_type": "code",
   "execution_count": 147,
   "metadata": {},
   "outputs": [],
   "source": [
    "#driver.page_source"
   ]
  },
  {
   "cell_type": "code",
   "execution_count": 15,
   "metadata": {},
   "outputs": [],
   "source": [
    "Events_button=driver.find_element_by_link_text('Events')\n",
    "Events_button.click()"
   ]
  },
  {
   "cell_type": "code",
   "execution_count": 16,
   "metadata": {},
   "outputs": [],
   "source": [
    "driver.back()"
   ]
  },
  {
   "cell_type": "code",
   "execution_count": 18,
   "metadata": {},
   "outputs": [],
   "source": [
    "Events_button=driver.find_element_by_partial_link_text('Eve')\n",
    "Events_button.click()"
   ]
  },
  {
   "cell_type": "markdown",
   "metadata": {},
   "source": [
    "**Exercise 1.Click on Advanced Algorithms**\n",
    "\n",
    "Open this website :https://codezen.codingninjas.com/dashboard?_ga=2.257346127.59069939.1587524269-1963222658.1586466461\n",
    "\n",
    "Click on “Practice”"
   ]
  },
  {
   "cell_type": "code",
   "execution_count": 35,
   "metadata": {},
   "outputs": [],
   "source": [
    "driver.get('https://codezen.codingninjas.in/dashboard')\n",
    "Practice_button=driver.find_element_by_link_text('Practice')\n",
    "Practice_button.click()"
   ]
  },
  {
   "cell_type": "markdown",
   "metadata": {},
   "source": [
    "**Exercise2.Title of Google**\n",
    "\n",
    "Open Google https://www.google.com/ and Perform the following Steps :\n",
    "\n",
    "1.Click on a link that has string “mage” present in it.\n",
    "\n",
    "2.Find the title of the new page.\n",
    "\n",
    "3.Go back to the previous page."
   ]
  },
  {
   "cell_type": "code",
   "execution_count": 28,
   "metadata": {},
   "outputs": [],
   "source": [
    "driver.get('https://www.google.com/')\n",
    "button=driver.find_element_by_partial_link_text('mage')\n",
    "button.click()"
   ]
  },
  {
   "cell_type": "code",
   "execution_count": 30,
   "metadata": {},
   "outputs": [
    {
     "data": {
      "text/plain": [
       "'Google Images'"
      ]
     },
     "execution_count": 30,
     "metadata": {},
     "output_type": "execute_result"
    }
   ],
   "source": [
    "driver.title"
   ]
  },
  {
   "cell_type": "code",
   "execution_count": 31,
   "metadata": {},
   "outputs": [],
   "source": [
    "driver.back()"
   ]
  },
  {
   "cell_type": "code",
   "execution_count": 36,
   "metadata": {},
   "outputs": [],
   "source": [
    "driver.maximize_window()"
   ]
  },
  {
   "cell_type": "code",
   "execution_count": 37,
   "metadata": {},
   "outputs": [],
   "source": [
    "driver.refresh()"
   ]
  },
  {
   "cell_type": "markdown",
   "metadata": {},
   "source": [
    "### 2. Locate elements"
   ]
  },
  {
   "cell_type": "code",
   "execution_count": 66,
   "metadata": {},
   "outputs": [],
   "source": [
    "driver.get('http://books.toscrape.com/')"
   ]
  },
  {
   "cell_type": "code",
   "execution_count": 41,
   "metadata": {},
   "outputs": [],
   "source": [
    "cl=driver.find_element_by_link_text('Music')\n",
    "cl.click()"
   ]
  },
  {
   "cell_type": "code",
   "execution_count": 42,
   "metadata": {},
   "outputs": [],
   "source": [
    "d1=driver.find_element_by_partial_link_text('Kill')\n",
    "d1.click()"
   ]
  },
  {
   "cell_type": "code",
   "execution_count": 49,
   "metadata": {},
   "outputs": [],
   "source": [
    "driver.back()"
   ]
  },
  {
   "cell_type": "code",
   "execution_count": 46,
   "metadata": {},
   "outputs": [],
   "source": [
    "i1=driver.find_element_by_class_name('image_container')\n",
    "i1.click()"
   ]
  },
  {
   "cell_type": "code",
   "execution_count": 53,
   "metadata": {},
   "outputs": [
    {
     "name": "stdout",
     "output_type": "stream",
     "text": [
      "13\n",
      "[<selenium.webdriver.remote.webelement.WebElement (session=\"a5546d0f394f3a92700ba01e50473534\", element=\"3af18fc4-41b9-4ede-bdec-7b8952d45c41\")>, <selenium.webdriver.remote.webelement.WebElement (session=\"a5546d0f394f3a92700ba01e50473534\", element=\"ef62cb38-9f0a-411e-ad49-5ccba1e30e49\")>, <selenium.webdriver.remote.webelement.WebElement (session=\"a5546d0f394f3a92700ba01e50473534\", element=\"01827ee1-7fcd-4cef-a3da-823e4660a322\")>, <selenium.webdriver.remote.webelement.WebElement (session=\"a5546d0f394f3a92700ba01e50473534\", element=\"4e1afd76-2fad-428a-9792-99b72c23032a\")>, <selenium.webdriver.remote.webelement.WebElement (session=\"a5546d0f394f3a92700ba01e50473534\", element=\"5baba66b-47a7-4727-9dfc-88c8b688a0a4\")>, <selenium.webdriver.remote.webelement.WebElement (session=\"a5546d0f394f3a92700ba01e50473534\", element=\"c1c969b7-58e7-4cef-a4fa-b29128adbf33\")>, <selenium.webdriver.remote.webelement.WebElement (session=\"a5546d0f394f3a92700ba01e50473534\", element=\"ec21d8ff-0834-49e9-86da-ac16e2ffe094\")>, <selenium.webdriver.remote.webelement.WebElement (session=\"a5546d0f394f3a92700ba01e50473534\", element=\"34def3a2-c80c-4504-9918-6a3af4fae397\")>, <selenium.webdriver.remote.webelement.WebElement (session=\"a5546d0f394f3a92700ba01e50473534\", element=\"19b9c508-6e7e-4e0f-a195-2bf1bc2589b5\")>, <selenium.webdriver.remote.webelement.WebElement (session=\"a5546d0f394f3a92700ba01e50473534\", element=\"9a31cb1a-3cfc-4791-bca2-a05b6af9d987\")>, <selenium.webdriver.remote.webelement.WebElement (session=\"a5546d0f394f3a92700ba01e50473534\", element=\"7faa5868-eba7-4881-bb8a-7a5a139d25b0\")>, <selenium.webdriver.remote.webelement.WebElement (session=\"a5546d0f394f3a92700ba01e50473534\", element=\"e5be3a67-fb6a-4d3e-97c1-46e6cfe4ca7a\")>, <selenium.webdriver.remote.webelement.WebElement (session=\"a5546d0f394f3a92700ba01e50473534\", element=\"8af5548f-2716-428b-8117-80e8fddbde20\")>]\n"
     ]
    }
   ],
   "source": [
    "list1=driver.find_elements_by_class_name('image_container')#--->elements\n",
    "print(len(list1))\n",
    "print(list1)"
   ]
  },
  {
   "cell_type": "code",
   "execution_count": 54,
   "metadata": {},
   "outputs": [
    {
     "data": {
      "text/plain": [
       "<selenium.webdriver.remote.webelement.WebElement (session=\"a5546d0f394f3a92700ba01e50473534\", element=\"b395c077-e115-4b39-9f79-f5c7eaaefb0b\")>"
      ]
     },
     "execution_count": 54,
     "metadata": {},
     "output_type": "execute_result"
    }
   ],
   "source": [
    "driver.find_element_by_tag_name('img')"
   ]
  },
  {
   "cell_type": "markdown",
   "metadata": {},
   "source": [
    "**3 Exercise 3.Find address**\n",
    "\n",
    "Find the element with < address > tag on the page\n",
    "    \n",
    "website:https://www.codingninjas.com/courses?_ga=2.223407711.59069939.1587524269-1963222658.1586466461"
   ]
  },
  {
   "cell_type": "code",
   "execution_count": null,
   "metadata": {},
   "outputs": [],
   "source": [
    "driver.get('https://codingninjas.in/courses')\n",
    "driver.find_element_by_tag_name('address')"
   ]
  },
  {
   "cell_type": "markdown",
   "metadata": {},
   "source": [
    "**Method Continue**"
   ]
  },
  {
   "cell_type": "code",
   "execution_count": 61,
   "metadata": {},
   "outputs": [],
   "source": [
    "c=driver.find_element_by_class_name('price_color')\n",
    "c.click()"
   ]
  },
  {
   "cell_type": "code",
   "execution_count": 63,
   "metadata": {},
   "outputs": [
    {
     "data": {
      "text/plain": [
       "'£51.77'"
      ]
     },
     "execution_count": 63,
     "metadata": {},
     "output_type": "execute_result"
    }
   ],
   "source": [
    "c.text"
   ]
  },
  {
   "cell_type": "code",
   "execution_count": 64,
   "metadata": {},
   "outputs": [
    {
     "data": {
      "text/plain": [
       "'p'"
      ]
     },
     "execution_count": 64,
     "metadata": {},
     "output_type": "execute_result"
    }
   ],
   "source": [
    "c.tag_name"
   ]
  },
  {
   "cell_type": "code",
   "execution_count": 65,
   "metadata": {},
   "outputs": [
    {
     "data": {
      "text/plain": [
       "'price_color'"
      ]
     },
     "execution_count": 65,
     "metadata": {},
     "output_type": "execute_result"
    }
   ],
   "source": [
    "c.get_attribute('class')"
   ]
  },
  {
   "cell_type": "markdown",
   "metadata": {},
   "source": [
    "### 3. Find all jobs"
   ]
  },
  {
   "cell_type": "markdown",
   "metadata": {},
   "source": [
    "#### 3.1 method 1"
   ]
  },
  {
   "cell_type": "code",
   "execution_count": 93,
   "metadata": {},
   "outputs": [],
   "source": [
    "driver.get('http://kanview.ks.gov/PayRates/PayRates_Agency.aspx')"
   ]
  },
  {
   "cell_type": "code",
   "execution_count": 94,
   "metadata": {},
   "outputs": [],
   "source": [
    "a=driver.find_element_by_link_text('Adjutant General')\n",
    "a.click()"
   ]
  },
  {
   "cell_type": "code",
   "execution_count": 95,
   "metadata": {},
   "outputs": [],
   "source": [
    "from bs4 import BeautifulSoup\n",
    "import pandas as pd\n",
    "\n",
    "dataFrameList=[]\n",
    "for i in range(15):\n",
    "    link=driver.find_element_by_id('MainContent_uxLevel2_JobTitles_uxJobTitleBtn_'+str(i))\n",
    "    link.click()\n",
    "    data=BeautifulSoup(driver.page_source,'lxml')\n",
    "    emp_table=data.table\n",
    "    df=pd.read_html(str(emp_table),header=0)#--->first line be header\n",
    "    dataFrameList.append(df[0])\n",
    "    driver.back()"
   ]
  },
  {
   "cell_type": "code",
   "execution_count": 96,
   "metadata": {},
   "outputs": [
    {
     "data": {
      "text/plain": [
       "[      Employee Name    Job Title Overtime Pay Total Gross Pay\n",
       " 0  Alexander,Lori A  911 Liaison        $0.00      $53,701.80,\n",
       "      Employee Name             Job Title Overtime Pay Total Gross Pay\n",
       " 0  Crawford,Jacque  Access Control Clerk       $50.61      $34,932.46,\n",
       "     Employee Name               Job Title Overtime Pay Total Gross Pay\n",
       " 0  Herbert,Lisa M  Access Control Officer        $0.00       $1,848.00,\n",
       "     Employee Name     Job Title Overtime Pay Total Gross Pay\n",
       " 0  Phillips,Amy L  Accountant I        $0.00      $21,736.04,\n",
       "             Employee Name      Job Title Overtime Pay Total Gross Pay\n",
       " 0  Black,Shannon Michelle  Accountant II        $0.00      $47,010.84\n",
       " 1        Bradford,Randy D  Accountant II        $0.00      $43,989.94\n",
       " 2           Epps,David A.  Accountant II        $0.00      $41,870.37\n",
       " 3      Fairbanks,Angela K  Accountant II      $551.36      $45,524.80\n",
       " 4         Nelson,Shayna I  Accountant II        $0.00      $34,676.01,\n",
       "                Employee Name             Job Title Overtime Pay  \\\n",
       " 0  Klenklen-Albertson,Tina L  Accountant II - Lead        $0.00   \n",
       " \n",
       "   Total Gross Pay  \n",
       " 0      $45,920.89  ,\n",
       "        Employee Name       Job Title Overtime Pay Total Gross Pay\n",
       " 0  Boucher,Janette M  Accountant III        $0.00      $27,384.52,\n",
       "           Employee Name     Job Title Overtime Pay Total Gross Pay\n",
       " 0   Neth,Michael Edward  Accountant V    $1,735.01      $66,944.11\n",
       " 1  Rightmeier,Yolanda M  Accountant V    $2,388.15      $68,952.41,\n",
       "   Employee Name              Job Title Overtime Pay Total Gross Pay\n",
       " 0  Barr,Candy S  Accounting Specialist        $0.00      $35,314.39,\n",
       "      Employee Name                     Job Title Overtime Pay Total Gross Pay\n",
       " 0  Tafanelli,Lee E  Acting Appntv St Agency Head        $0.00     $111,711.82,\n",
       "   Employee Name                     Job Title Overtime Pay Total Gross Pay\n",
       " 0  Welch,Jane E  Acting Dir of Public Affairs    $3,365.75      $57,503.79,\n",
       "          Employee Name                 Job Title Overtime Pay Total Gross Pay\n",
       " 0  Babcock,Leah Jolene  Administrative Assistant        $0.00      $12,821.25\n",
       " 1      Ferguson,June M  Administrative Assistant        $0.00      $16,566.20\n",
       " 2  Hoyt,Sara Elizabeth  Administrative Assistant        $0.00       $1,927.08\n",
       " 3     Lemman,Beverly S  Administrative Assistant        $0.00      $32,262.41,\n",
       "           Employee Name               Job Title Overtime Pay Total Gross Pay\n",
       " 0          Boswell,Jo H  Administrative Officer        $0.00      $39,908.50\n",
       " 1  Herrera,Maria Isabel  Administrative Officer      $815.31      $38,817.54\n",
       " 2         Murray,Dawn A  Administrative Officer        $0.00      $37,696.41,\n",
       "      Employee Name                  Job Title Overtime Pay Total Gross Pay\n",
       " 0  Darling,Terri S  Administrative Specialist        $0.00      $35,258.00\n",
       " 1  Johnston,Dawn M  Administrative Specialist        $0.00      $37,019.25\n",
       " 2    Snyder,Jeri L  Administrative Specialist        $0.00      $32,252.97,\n",
       "         Employee Name          Job Title Overtime Pay Total Gross Pay\n",
       " 0  Lewallen,Richard A  Antiterrorism Mgr        $0.00      $61,277.75]"
      ]
     },
     "execution_count": 96,
     "metadata": {},
     "output_type": "execute_result"
    }
   ],
   "source": [
    "dataFrameList"
   ]
  },
  {
   "cell_type": "markdown",
   "metadata": {},
   "source": [
    "#### 3.2 method 2 --better"
   ]
  },
  {
   "cell_type": "code",
   "execution_count": 107,
   "metadata": {},
   "outputs": [],
   "source": [
    "driver.get('http://kanview.ks.gov/PayRates/PayRates_Agency.aspx')"
   ]
  },
  {
   "cell_type": "code",
   "execution_count": 108,
   "metadata": {},
   "outputs": [],
   "source": [
    "a=driver.find_element_by_link_text('Board of Accountancy')\n",
    "a.click()"
   ]
  },
  {
   "cell_type": "code",
   "execution_count": 109,
   "metadata": {},
   "outputs": [],
   "source": [
    "from bs4 import BeautifulSoup\n",
    "import pandas as pd\n",
    "from selenium.common.exceptions import NoSuchElementException\n",
    "\n",
    "dataFrameList=[]\n",
    "i=0\n",
    "\n",
    "while True:\n",
    "    try:\n",
    "        link=driver.find_element_by_id('MainContent_uxLevel2_JobTitles_uxJobTitleBtn_'+str(i))\n",
    "        link.click()\n",
    "        data=BeautifulSoup(driver.page_source,'lxml')\n",
    "        emp_table=data.table\n",
    "        df=pd.read_html(str(emp_table),header=0)#--->first line be header\n",
    "        dataFrameList.append(df[0])\n",
    "        driver.back()\n",
    "        i+=1\n",
    "    except NoSuchElementException:\n",
    "        break"
   ]
  },
  {
   "cell_type": "code",
   "execution_count": 110,
   "metadata": {},
   "outputs": [
    {
     "data": {
      "text/plain": [
       "[         Employee Name               Job Title Overtime Pay Total Gross Pay\n",
       " 0  Ramskill,Samantha S  Administrative Officer        $0.00      $41,845.44,\n",
       "     Employee Name                  Job Title Overtime Pay Total Gross Pay\n",
       " 0  Miller,Janet M  Administrative Specialist        $0.00       $8,033.31,\n",
       "           Employee Name                     Job Title Overtime Pay  \\\n",
       " 0  Bottenberg,Jeffery S  Appt/Elect Bd/Comm Bd Member        $0.00   \n",
       " 1          Helms,John R  Appt/Elect Bd/Comm Bd Member        $0.00   \n",
       " 2       Lange,Corlene R  Appt/Elect Bd/Comm Bd Member        $0.00   \n",
       " 3       Marsh,Michael L  Appt/Elect Bd/Comm Bd Member        $0.00   \n",
       " 4    Mitchell,Kathryn J  Appt/Elect Bd/Comm Bd Member        $0.00   \n",
       " 5     Richey,Meredith A  Appt/Elect Bd/Comm Bd Member        $0.00   \n",
       " 6         Weaver,Sean P  Appt/Elect Bd/Comm Bd Member        $0.00   \n",
       " \n",
       "   Total Gross Pay  \n",
       " 0          $35.00  \n",
       " 1         $245.00  \n",
       " 2         $245.00  \n",
       " 3         $245.00  \n",
       " 4         $245.00  \n",
       " 5         $210.00  \n",
       " 6         $210.00  ,\n",
       "      Employee Name           Job Title Overtime Pay Total Gross Pay\n",
       " 0  Somers,Susan L.  Executive Director        $0.00      $80,975.47]"
      ]
     },
     "execution_count": 110,
     "metadata": {},
     "output_type": "execute_result"
    }
   ],
   "source": [
    "dataFrameList"
   ]
  },
  {
   "cell_type": "code",
   "execution_count": 112,
   "metadata": {},
   "outputs": [
    {
     "data": {
      "text/html": [
       "<div>\n",
       "<style scoped>\n",
       "    .dataframe tbody tr th:only-of-type {\n",
       "        vertical-align: middle;\n",
       "    }\n",
       "\n",
       "    .dataframe tbody tr th {\n",
       "        vertical-align: top;\n",
       "    }\n",
       "\n",
       "    .dataframe thead th {\n",
       "        text-align: right;\n",
       "    }\n",
       "</style>\n",
       "<table border=\"1\" class=\"dataframe\">\n",
       "  <thead>\n",
       "    <tr style=\"text-align: right;\">\n",
       "      <th></th>\n",
       "      <th>Employee Name</th>\n",
       "      <th>Job Title</th>\n",
       "      <th>Overtime Pay</th>\n",
       "      <th>Total Gross Pay</th>\n",
       "    </tr>\n",
       "  </thead>\n",
       "  <tbody>\n",
       "    <tr>\n",
       "      <th>0</th>\n",
       "      <td>Ramskill,Samantha S</td>\n",
       "      <td>Administrative Officer</td>\n",
       "      <td>$0.00</td>\n",
       "      <td>$41,845.44</td>\n",
       "    </tr>\n",
       "    <tr>\n",
       "      <th>1</th>\n",
       "      <td>Miller,Janet M</td>\n",
       "      <td>Administrative Specialist</td>\n",
       "      <td>$0.00</td>\n",
       "      <td>$8,033.31</td>\n",
       "    </tr>\n",
       "    <tr>\n",
       "      <th>2</th>\n",
       "      <td>Bottenberg,Jeffery S</td>\n",
       "      <td>Appt/Elect Bd/Comm Bd Member</td>\n",
       "      <td>$0.00</td>\n",
       "      <td>$35.00</td>\n",
       "    </tr>\n",
       "    <tr>\n",
       "      <th>3</th>\n",
       "      <td>Helms,John R</td>\n",
       "      <td>Appt/Elect Bd/Comm Bd Member</td>\n",
       "      <td>$0.00</td>\n",
       "      <td>$245.00</td>\n",
       "    </tr>\n",
       "    <tr>\n",
       "      <th>4</th>\n",
       "      <td>Lange,Corlene R</td>\n",
       "      <td>Appt/Elect Bd/Comm Bd Member</td>\n",
       "      <td>$0.00</td>\n",
       "      <td>$245.00</td>\n",
       "    </tr>\n",
       "    <tr>\n",
       "      <th>5</th>\n",
       "      <td>Marsh,Michael L</td>\n",
       "      <td>Appt/Elect Bd/Comm Bd Member</td>\n",
       "      <td>$0.00</td>\n",
       "      <td>$245.00</td>\n",
       "    </tr>\n",
       "    <tr>\n",
       "      <th>6</th>\n",
       "      <td>Mitchell,Kathryn J</td>\n",
       "      <td>Appt/Elect Bd/Comm Bd Member</td>\n",
       "      <td>$0.00</td>\n",
       "      <td>$245.00</td>\n",
       "    </tr>\n",
       "    <tr>\n",
       "      <th>7</th>\n",
       "      <td>Richey,Meredith A</td>\n",
       "      <td>Appt/Elect Bd/Comm Bd Member</td>\n",
       "      <td>$0.00</td>\n",
       "      <td>$210.00</td>\n",
       "    </tr>\n",
       "    <tr>\n",
       "      <th>8</th>\n",
       "      <td>Weaver,Sean P</td>\n",
       "      <td>Appt/Elect Bd/Comm Bd Member</td>\n",
       "      <td>$0.00</td>\n",
       "      <td>$210.00</td>\n",
       "    </tr>\n",
       "    <tr>\n",
       "      <th>9</th>\n",
       "      <td>Somers,Susan L.</td>\n",
       "      <td>Executive Director</td>\n",
       "      <td>$0.00</td>\n",
       "      <td>$80,975.47</td>\n",
       "    </tr>\n",
       "  </tbody>\n",
       "</table>\n",
       "</div>"
      ],
      "text/plain": [
       "          Employee Name                     Job Title Overtime Pay  \\\n",
       "0   Ramskill,Samantha S        Administrative Officer        $0.00   \n",
       "1        Miller,Janet M     Administrative Specialist        $0.00   \n",
       "2  Bottenberg,Jeffery S  Appt/Elect Bd/Comm Bd Member        $0.00   \n",
       "3          Helms,John R  Appt/Elect Bd/Comm Bd Member        $0.00   \n",
       "4       Lange,Corlene R  Appt/Elect Bd/Comm Bd Member        $0.00   \n",
       "5       Marsh,Michael L  Appt/Elect Bd/Comm Bd Member        $0.00   \n",
       "6    Mitchell,Kathryn J  Appt/Elect Bd/Comm Bd Member        $0.00   \n",
       "7     Richey,Meredith A  Appt/Elect Bd/Comm Bd Member        $0.00   \n",
       "8         Weaver,Sean P  Appt/Elect Bd/Comm Bd Member        $0.00   \n",
       "9       Somers,Susan L.            Executive Director        $0.00   \n",
       "\n",
       "  Total Gross Pay  \n",
       "0      $41,845.44  \n",
       "1       $8,033.31  \n",
       "2          $35.00  \n",
       "3         $245.00  \n",
       "4         $245.00  \n",
       "5         $245.00  \n",
       "6         $245.00  \n",
       "7         $210.00  \n",
       "8         $210.00  \n",
       "9      $80,975.47  "
      ]
     },
     "execution_count": 112,
     "metadata": {},
     "output_type": "execute_result"
    }
   ],
   "source": [
    "df=pd.concat(dataFrameList,ignore_index=True)\n",
    "df"
   ]
  },
  {
   "cell_type": "code",
   "execution_count": 113,
   "metadata": {},
   "outputs": [],
   "source": [
    "driver.get('http://books.toscrape.com/')"
   ]
  },
  {
   "cell_type": "code",
   "execution_count": 116,
   "metadata": {},
   "outputs": [],
   "source": [
    "ans=driver.find_element_by_xpath(\"/html/head/title\")"
   ]
  },
  {
   "cell_type": "code",
   "execution_count": 117,
   "metadata": {},
   "outputs": [
    {
     "data": {
      "text/plain": [
       "'<title>\\n    All products | Books to Scrape - Sandbox\\n</title>'"
      ]
     },
     "execution_count": 117,
     "metadata": {},
     "output_type": "execute_result"
    }
   ],
   "source": [
    "ans.get_attribute('outerHTML')"
   ]
  },
  {
   "cell_type": "code",
   "execution_count": 118,
   "metadata": {},
   "outputs": [
    {
     "data": {
      "text/plain": [
       "'\\n    All products | Books to Scrape - Sandbox\\n'"
      ]
     },
     "execution_count": 118,
     "metadata": {},
     "output_type": "execute_result"
    }
   ],
   "source": [
    "ans.get_attribute('innerHTML')"
   ]
  },
  {
   "cell_type": "code",
   "execution_count": 120,
   "metadata": {},
   "outputs": [
    {
     "data": {
      "text/plain": [
       "'<ul class=\"breadcrumb\">\\n        <li>\\n            <a href=\"index.html\">Home</a>\\n        </li>\\n        <li class=\"active\">All products</li>\\n    </ul>'"
      ]
     },
     "execution_count": 120,
     "metadata": {},
     "output_type": "execute_result"
    }
   ],
   "source": [
    "ans=driver.find_element_by_xpath(\"/html/body/div/div/ul\")\n",
    "ans.get_attribute('outerHTML')"
   ]
  },
  {
   "cell_type": "code",
   "execution_count": 122,
   "metadata": {},
   "outputs": [
    {
     "data": {
      "text/plain": [
       "'<ul class=\"breadcrumb\">\\n        <li>\\n            <a href=\"index.html\">Home</a>\\n        </li>\\n        <li class=\"active\">All products</li>\\n    </ul>'"
      ]
     },
     "execution_count": 122,
     "metadata": {},
     "output_type": "execute_result"
    }
   ],
   "source": [
    "ans=driver.find_element_by_xpath(\"//ul[@class='breadcrumb']\")#--->return the first match\n",
    "ans.get_attribute('outerHTML')"
   ]
  },
  {
   "cell_type": "code",
   "execution_count": 124,
   "metadata": {},
   "outputs": [
    {
     "data": {
      "text/plain": [
       "'<div class=\"col-sm-8 h1\"><a href=\"index.html\">Books to Scrape</a><small> We love being scraped!</small>\\n</div>'"
      ]
     },
     "execution_count": 124,
     "metadata": {},
     "output_type": "execute_result"
    }
   ],
   "source": [
    "ans=driver.find_element_by_xpath(\"//div[contains(@class,'h1')]\")\n",
    "ans.get_attribute('outerHTML')"
   ]
  },
  {
   "cell_type": "code",
   "execution_count": 125,
   "metadata": {},
   "outputs": [
    {
     "data": {
      "text/plain": [
       "'<ul class=\"nav nav-list\">\\n                \\n                    <li>\\n                        <a href=\"catalogue/category/books_1/index.html\">\\n                            \\n                                Books\\n                            \\n                        </a>\\n\\n                        <ul>\\n                        \\n                \\n                    <li>\\n                        <a href=\"catalogue/category/books/travel_2/index.html\">\\n                            \\n                                Travel\\n                            \\n                        </a>\\n\\n                        </li>\\n                        \\n                \\n                    <li>\\n                        <a href=\"catalogue/category/books/mystery_3/index.html\">\\n                            \\n                                Mystery\\n                            \\n                        </a>\\n\\n                        </li>\\n                        \\n                \\n                    <li>\\n                        <a href=\"catalogue/category/books/historical-fiction_4/index.html\">\\n                            \\n                                Historical Fiction\\n                            \\n                        </a>\\n\\n                        </li>\\n                        \\n                \\n                    <li>\\n                        <a href=\"catalogue/category/books/sequential-art_5/index.html\">\\n                            \\n                                Sequential Art\\n                            \\n                        </a>\\n\\n                        </li>\\n                        \\n                \\n                    <li>\\n                        <a href=\"catalogue/category/books/classics_6/index.html\">\\n                            \\n                                Classics\\n                            \\n                        </a>\\n\\n                        </li>\\n                        \\n                \\n                    <li>\\n                        <a href=\"catalogue/category/books/philosophy_7/index.html\">\\n                            \\n                                Philosophy\\n                            \\n                        </a>\\n\\n                        </li>\\n                        \\n                \\n                    <li>\\n                        <a href=\"catalogue/category/books/romance_8/index.html\">\\n                            \\n                                Romance\\n                            \\n                        </a>\\n\\n                        </li>\\n                        \\n                \\n                    <li>\\n                        <a href=\"catalogue/category/books/womens-fiction_9/index.html\">\\n                            \\n                                Womens Fiction\\n                            \\n                        </a>\\n\\n                        </li>\\n                        \\n                \\n                    <li>\\n                        <a href=\"catalogue/category/books/fiction_10/index.html\">\\n                            \\n                                Fiction\\n                            \\n                        </a>\\n\\n                        </li>\\n                        \\n                \\n                    <li>\\n                        <a href=\"catalogue/category/books/childrens_11/index.html\">\\n                            \\n                                Childrens\\n                            \\n                        </a>\\n\\n                        </li>\\n                        \\n                \\n                    <li>\\n                        <a href=\"catalogue/category/books/religion_12/index.html\">\\n                            \\n                                Religion\\n                            \\n                        </a>\\n\\n                        </li>\\n                        \\n                \\n                    <li>\\n                        <a href=\"catalogue/category/books/nonfiction_13/index.html\">\\n                            \\n                                Nonfiction\\n                            \\n                        </a>\\n\\n                        </li>\\n                        \\n                \\n                    <li>\\n                        <a href=\"catalogue/category/books/music_14/index.html\">\\n                            \\n                                Music\\n                            \\n                        </a>\\n\\n                        </li>\\n                        \\n                \\n                    <li>\\n                        <a href=\"catalogue/category/books/default_15/index.html\">\\n                            \\n                                Default\\n                            \\n                        </a>\\n\\n                        </li>\\n                        \\n                \\n                    <li>\\n                        <a href=\"catalogue/category/books/science-fiction_16/index.html\">\\n                            \\n                                Science Fiction\\n                            \\n                        </a>\\n\\n                        </li>\\n                        \\n                \\n                    <li>\\n                        <a href=\"catalogue/category/books/sports-and-games_17/index.html\">\\n                            \\n                                Sports and Games\\n                            \\n                        </a>\\n\\n                        </li>\\n                        \\n                \\n                    <li>\\n                        <a href=\"catalogue/category/books/add-a-comment_18/index.html\">\\n                            \\n                                Add a comment\\n                            \\n                        </a>\\n\\n                        </li>\\n                        \\n                \\n                    <li>\\n                        <a href=\"catalogue/category/books/fantasy_19/index.html\">\\n                            \\n                                Fantasy\\n                            \\n                        </a>\\n\\n                        </li>\\n                        \\n                \\n                    <li>\\n                        <a href=\"catalogue/category/books/new-adult_20/index.html\">\\n                            \\n                                New Adult\\n                            \\n                        </a>\\n\\n                        </li>\\n                        \\n                \\n                    <li>\\n                        <a href=\"catalogue/category/books/young-adult_21/index.html\">\\n                            \\n                                Young Adult\\n                            \\n                        </a>\\n\\n                        </li>\\n                        \\n                \\n                    <li>\\n                        <a href=\"catalogue/category/books/science_22/index.html\">\\n                            \\n                                Science\\n                            \\n                        </a>\\n\\n                        </li>\\n                        \\n                \\n                    <li>\\n                        <a href=\"catalogue/category/books/poetry_23/index.html\">\\n                            \\n                                Poetry\\n                            \\n                        </a>\\n\\n                        </li>\\n                        \\n                \\n                    <li>\\n                        <a href=\"catalogue/category/books/paranormal_24/index.html\">\\n                            \\n                                Paranormal\\n                            \\n                        </a>\\n\\n                        </li>\\n                        \\n                \\n                    <li>\\n                        <a href=\"catalogue/category/books/art_25/index.html\">\\n                            \\n                                Art\\n                            \\n                        </a>\\n\\n                        </li>\\n                        \\n                \\n                    <li>\\n                        <a href=\"catalogue/category/books/psychology_26/index.html\">\\n                            \\n                                Psychology\\n                            \\n                        </a>\\n\\n                        </li>\\n                        \\n                \\n                    <li>\\n                        <a href=\"catalogue/category/books/autobiography_27/index.html\">\\n                            \\n                                Autobiography\\n                            \\n                        </a>\\n\\n                        </li>\\n                        \\n                \\n                    <li>\\n                        <a href=\"catalogue/category/books/parenting_28/index.html\">\\n                            \\n                                Parenting\\n                            \\n                        </a>\\n\\n                        </li>\\n                        \\n                \\n                    <li>\\n                        <a href=\"catalogue/category/books/adult-fiction_29/index.html\">\\n                            \\n                                Adult Fiction\\n                            \\n                        </a>\\n\\n                        </li>\\n                        \\n                \\n                    <li>\\n                        <a href=\"catalogue/category/books/humor_30/index.html\">\\n                            \\n                                Humor\\n                            \\n                        </a>\\n\\n                        </li>\\n                        \\n                \\n                    <li>\\n                        <a href=\"catalogue/category/books/horror_31/index.html\">\\n                            \\n                                Horror\\n                            \\n                        </a>\\n\\n                        </li>\\n                        \\n                \\n                    <li>\\n                        <a href=\"catalogue/category/books/history_32/index.html\">\\n                            \\n                                History\\n                            \\n                        </a>\\n\\n                        </li>\\n                        \\n                \\n                    <li>\\n                        <a href=\"catalogue/category/books/food-and-drink_33/index.html\">\\n                            \\n                                Food and Drink\\n                            \\n                        </a>\\n\\n                        </li>\\n                        \\n                \\n                    <li>\\n                        <a href=\"catalogue/category/books/christian-fiction_34/index.html\">\\n                            \\n                                Christian Fiction\\n                            \\n                        </a>\\n\\n                        </li>\\n                        \\n                \\n                    <li>\\n                        <a href=\"catalogue/category/books/business_35/index.html\">\\n                            \\n                                Business\\n                            \\n                        </a>\\n\\n                        </li>\\n                        \\n                \\n                    <li>\\n                        <a href=\"catalogue/category/books/biography_36/index.html\">\\n                            \\n                                Biography\\n                            \\n                        </a>\\n\\n                        </li>\\n                        \\n                \\n                    <li>\\n                        <a href=\"catalogue/category/books/thriller_37/index.html\">\\n                            \\n                                Thriller\\n                            \\n                        </a>\\n\\n                        </li>\\n                        \\n                \\n                    <li>\\n                        <a href=\"catalogue/category/books/contemporary_38/index.html\">\\n                            \\n                                Contemporary\\n                            \\n                        </a>\\n\\n                        </li>\\n                        \\n                \\n                    <li>\\n                        <a href=\"catalogue/category/books/spirituality_39/index.html\">\\n                            \\n                                Spirituality\\n                            \\n                        </a>\\n\\n                        </li>\\n                        \\n                \\n                    <li>\\n                        <a href=\"catalogue/category/books/academic_40/index.html\">\\n                            \\n                                Academic\\n                            \\n                        </a>\\n\\n                        </li>\\n                        \\n                \\n                    <li>\\n                        <a href=\"catalogue/category/books/self-help_41/index.html\">\\n                            \\n                                Self Help\\n                            \\n                        </a>\\n\\n                        </li>\\n                        \\n                \\n                    <li>\\n                        <a href=\"catalogue/category/books/historical_42/index.html\">\\n                            \\n                                Historical\\n                            \\n                        </a>\\n\\n                        </li>\\n                        \\n                \\n                    <li>\\n                        <a href=\"catalogue/category/books/christian_43/index.html\">\\n                            \\n                                Christian\\n                            \\n                        </a>\\n\\n                        </li>\\n                        \\n                \\n                    <li>\\n                        <a href=\"catalogue/category/books/suspense_44/index.html\">\\n                            \\n                                Suspense\\n                            \\n                        </a>\\n\\n                        </li>\\n                        \\n                \\n                    <li>\\n                        <a href=\"catalogue/category/books/short-stories_45/index.html\">\\n                            \\n                                Short Stories\\n                            \\n                        </a>\\n\\n                        </li>\\n                        \\n                \\n                    <li>\\n                        <a href=\"catalogue/category/books/novels_46/index.html\">\\n                            \\n                                Novels\\n                            \\n                        </a>\\n\\n                        </li>\\n                        \\n                \\n                    <li>\\n                        <a href=\"catalogue/category/books/health_47/index.html\">\\n                            \\n                                Health\\n                            \\n                        </a>\\n\\n                        </li>\\n                        \\n                \\n                    <li>\\n                        <a href=\"catalogue/category/books/politics_48/index.html\">\\n                            \\n                                Politics\\n                            \\n                        </a>\\n\\n                        </li>\\n                        \\n                \\n                    <li>\\n                        <a href=\"catalogue/category/books/cultural_49/index.html\">\\n                            \\n                                Cultural\\n                            \\n                        </a>\\n\\n                        </li>\\n                        \\n                \\n                    <li>\\n                        <a href=\"catalogue/category/books/erotica_50/index.html\">\\n                            \\n                                Erotica\\n                            \\n                        </a>\\n\\n                        </li>\\n                        \\n                \\n                    <li>\\n                        <a href=\"catalogue/category/books/crime_51/index.html\">\\n                            \\n                                Crime\\n                            \\n                        </a>\\n\\n                        </li>\\n                        \\n                            </ul></li>\\n                        \\n                \\n            </ul>'"
      ]
     },
     "execution_count": 125,
     "metadata": {},
     "output_type": "execute_result"
    }
   ],
   "source": [
    "ans=driver.find_element_by_xpath(\"//ul[starts-with(@class,'nav')]\")\n",
    "ans.get_attribute('outerHTML')"
   ]
  },
  {
   "cell_type": "code",
   "execution_count": 127,
   "metadata": {},
   "outputs": [
    {
     "data": {
      "text/plain": [
       "'<li>\\n                        <a href=\"catalogue/category/books/travel_2/index.html\">\\n                            \\n                                Travel\\n                            \\n                        </a>\\n\\n                        </li>'"
      ]
     },
     "execution_count": 127,
     "metadata": {},
     "output_type": "execute_result"
    }
   ],
   "source": [
    "ans=driver.find_element_by_xpath(\"//ul[starts-with(@class,'nav')]/li/ul/li\")\n",
    "ans.get_attribute('outerHTML')"
   ]
  },
  {
   "cell_type": "code",
   "execution_count": 128,
   "metadata": {},
   "outputs": [
    {
     "data": {
      "text/plain": [
       "'<li>\\n                        <a href=\"catalogue/category/books/sequential-art_5/index.html\">\\n                            \\n                                Sequential Art\\n                            \\n                        </a>\\n\\n                        </li>'"
      ]
     },
     "execution_count": 128,
     "metadata": {},
     "output_type": "execute_result"
    }
   ],
   "source": [
    "ans=driver.find_element_by_xpath(\"//ul[starts-with(@class,'nav')]/li/ul/li[4]\")\n",
    "ans.get_attribute('outerHTML')"
   ]
  },
  {
   "cell_type": "code",
   "execution_count": 129,
   "metadata": {},
   "outputs": [
    {
     "data": {
      "text/plain": [
       "'<li>\\n                        <a href=\"catalogue/category/books/crime_51/index.html\">\\n                            \\n                                Crime\\n                            \\n                        </a>\\n\\n                        </li>'"
      ]
     },
     "execution_count": 129,
     "metadata": {},
     "output_type": "execute_result"
    }
   ],
   "source": [
    "ans=driver.find_element_by_xpath(\"//ul[starts-with(@class,'nav')]/li/ul/li[last()]\")\n",
    "ans.get_attribute('outerHTML')"
   ]
  },
  {
   "cell_type": "code",
   "execution_count": 130,
   "metadata": {},
   "outputs": [
    {
     "data": {
      "text/plain": [
       "'<li>\\n                        <a href=\"catalogue/category/books/travel_2/index.html\">\\n                            \\n                                Travel\\n                            \\n                        </a>\\n\\n                        </li>'"
      ]
     },
     "execution_count": 130,
     "metadata": {},
     "output_type": "execute_result"
    }
   ],
   "source": [
    "ans=driver.find_element_by_xpath(\"//ul[starts-with(@class,'nav')]/li/ul/li[position()<3]\")\n",
    "ans.get_attribute('outerHTML')"
   ]
  },
  {
   "cell_type": "code",
   "execution_count": 132,
   "metadata": {},
   "outputs": [
    {
     "data": {
      "text/plain": [
       "'<title>\\n    All products | Books to Scrape - Sandbox\\n</title>'"
      ]
     },
     "execution_count": 132,
     "metadata": {},
     "output_type": "execute_result"
    }
   ],
   "source": [
    "ans=driver.find_element_by_css_selector('html head title')\n",
    "ans.get_attribute('outerHTML')"
   ]
  },
  {
   "cell_type": "code",
   "execution_count": 133,
   "metadata": {},
   "outputs": [
    {
     "data": {
      "text/plain": [
       "'<div class=\"page_inner\">\\n            <div class=\"row\">\\n                <div class=\"col-sm-8 h1\"><a href=\"index.html\">Books to Scrape</a><small> We love being scraped!</small>\\n</div>\\n\\n                \\n            </div>\\n        </div>'"
      ]
     },
     "execution_count": 133,
     "metadata": {},
     "output_type": "execute_result"
    }
   ],
   "source": [
    "ans=driver.find_element_by_css_selector('div.page_inner')# -->.is class and # is id\n",
    "ans.get_attribute('outerHTML')"
   ]
  },
  {
   "cell_type": "code",
   "execution_count": 134,
   "metadata": {},
   "outputs": [
    {
     "data": {
      "text/plain": [
       "'<li>\\n            <a href=\"index.html\">Home</a>\\n        </li>'"
      ]
     },
     "execution_count": 134,
     "metadata": {},
     "output_type": "execute_result"
    }
   ],
   "source": [
    "ans=driver.find_element_by_css_selector('div.page_inner ul li')\n",
    "ans.get_attribute('outerHTML')"
   ]
  },
  {
   "cell_type": "code",
   "execution_count": 135,
   "metadata": {},
   "outputs": [
    {
     "data": {
      "text/plain": [
       "'<li>\\n            <a href=\"index.html\">Home</a>\\n        </li>'"
      ]
     },
     "execution_count": 135,
     "metadata": {},
     "output_type": "execute_result"
    }
   ],
   "source": [
    "ans=driver.find_element_by_css_selector('div.page_inner>ul>li')\n",
    "ans.get_attribute('outerHTML')"
   ]
  },
  {
   "cell_type": "code",
   "execution_count": 142,
   "metadata": {},
   "outputs": [],
   "source": [
    "driver.get('https://www.google.com/')"
   ]
  },
  {
   "cell_type": "code",
   "execution_count": 145,
   "metadata": {},
   "outputs": [],
   "source": [
    "text_box=driver.find_element_by_name('q')\n",
    "text_box.send_keys('selenium')"
   ]
  },
  {
   "cell_type": "code",
   "execution_count": 146,
   "metadata": {},
   "outputs": [],
   "source": [
    "text_box.submit()"
   ]
  },
  {
   "cell_type": "code",
   "execution_count": null,
   "metadata": {},
   "outputs": [],
   "source": []
  }
 ],
 "metadata": {
  "kernelspec": {
   "display_name": "Python 3",
   "language": "python",
   "name": "python3"
  },
  "language_info": {
   "codemirror_mode": {
    "name": "ipython",
    "version": 3
   },
   "file_extension": ".py",
   "mimetype": "text/x-python",
   "name": "python",
   "nbconvert_exporter": "python",
   "pygments_lexer": "ipython3",
   "version": "3.7.3"
  }
 },
 "nbformat": 4,
 "nbformat_minor": 2
}
